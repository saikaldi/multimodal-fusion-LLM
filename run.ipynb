{
 "cells": [
  {
   "cell_type": "markdown",
   "metadata": {},
   "source": [
    "\n",
    "# # Multimodal Brain Tumor Project — CNN + Transformer (Genomics) + Fusion\n",
    "#\n",
    "# **Goal:** Build a multimodal deep learning pipeline that fuses MRI imaging features (via a CNN) with genomic features (via a Transformer encoder) to predict a clinically meaningful label (here: neoplasm histologic grade)."
   ]
  },
  {
   "cell_type": "code",
   "execution_count": 11,
   "metadata": {},
   "outputs": [],
   "source": [
    "import os\n",
    "import re\n",
    "import random\n",
    "import logging\n",
    "from pathlib import Path\n",
    "\n",
    "\n",
    "import numpy as np\n",
    "import pandas as pd\n",
    "from PIL import Image\n",
    "\n",
    "\n",
    "import torch\n",
    "import torch.nn as nn\n",
    "import torch.optim as optim\n",
    "from torch.utils.data import Dataset, DataLoader\n",
    "import torchvision.transforms as T\n",
    "\n",
    "\n",
    "from sklearn.preprocessing import StandardScaler\n",
    "from sklearn.model_selection import train_test_split\n",
    "from sklearn.metrics import confusion_matrix, classification_report\n",
    "from sklearn.manifold import TSNE\n",
    "\n",
    "\n",
    "import matplotlib.pyplot as plt\n",
    "import seaborn as sns"
   ]
  },
  {
   "cell_type": "code",
   "execution_count": 30,
   "metadata": {},
   "outputs": [],
   "source": [
    "# Set up basic logging for debugging and reproducibility\n",
    "logging.basicConfig(level=logging.INFO, format='%(asctime)s - %(levelname)s - %(message)s')\n",
    "logger = logging.getLogger('multimodal')"
   ]
  },
  {
   "cell_type": "code",
   "execution_count": 31,
   "metadata": {},
   "outputs": [
    {
     "data": {
      "text/plain": [
       "<torch._C.Generator at 0x118912a50>"
      ]
     },
     "execution_count": 31,
     "metadata": {},
     "output_type": "execute_result"
    }
   ],
   "source": [
    "# Reproducibility\n",
    "RANDOM_SEED = 42\n",
    "random.seed(RANDOM_SEED)\n",
    "np.random.seed(RANDOM_SEED)\n",
    "torch.manual_seed(RANDOM_SEED)"
   ]
  },
  {
   "cell_type": "code",
   "execution_count": 32,
   "metadata": {},
   "outputs": [
    {
     "name": "stderr",
     "output_type": "stream",
     "text": [
      "2025-10-04 09:44:34,636 - INFO - Using device: cpu\n"
     ]
    }
   ],
   "source": [
    "# Device\n",
    "device = torch.device('cuda' if torch.cuda.is_available() else 'cpu')\n",
    "logger.info(f\"Using device: {device}\")"
   ]
  },
  {
   "cell_type": "code",
   "execution_count": 33,
   "metadata": {},
   "outputs": [],
   "source": [
    "# Helper: safe image open\n",
    "def pil_loader(path):\n",
    "    with Image.open(path) as img:\n",
    "        return img.convert('RGB')"
   ]
  },
  {
   "cell_type": "markdown",
   "metadata": {},
   "source": [
    "### Section 1: Paths and quick checks ###"
   ]
  },
  {
   "cell_type": "code",
   "execution_count": 40,
   "metadata": {},
   "outputs": [],
   "source": [
    "ROOT = Path('dataset')\n",
    "CSV_PATH = ROOT / 'data.csv' # genomic + metadata CSV\n",
    "IMG_ROOT = ROOT / 'kaggle_3m' # folder containing patient folders (one folder per case)\n",
    "OUTPUT_DIR = Path('outputs')\n",
    "OUTPUT_DIR.mkdir(exist_ok=True)"
   ]
  },
  {
   "cell_type": "code",
   "execution_count": 41,
   "metadata": {},
   "outputs": [
    {
     "name": "stderr",
     "output_type": "stream",
     "text": [
      "2025-10-04 09:45:27,779 - INFO - CSV found: dataset/data.csv\n",
      "2025-10-04 09:45:27,780 - INFO - Image folders found under: dataset/kaggle_3m\n"
     ]
    }
   ],
   "source": [
    "# Quick sanity checks\n",
    "assert CSV_PATH.exists(), f\"CSV not found at {CSV_PATH}. Put the genomic CSV at dataset/data.csv\"\n",
    "assert IMG_ROOT.exists(), f\"Image root not found at {IMG_ROOT}. Put image folders under dataset/kaggle_3m/\"\n",
    "\n",
    "\n",
    "logger.info(f\"CSV found: {CSV_PATH}\")\n",
    "logger.info(f\"Image folders found under: {IMG_ROOT}\")"
   ]
  },
  {
   "cell_type": "markdown",
   "metadata": {},
   "source": [
    "### Section 2: Load genomic CSV and inspect columns — choose features + target\n",
    "We will predict `neoplasm_histologic_grade` as the target (common clinical label: grade II vs grade III). If you want a different target, change TARGET_COL below and re-run preprocessing."
   ]
  },
  {
   "cell_type": "code",
   "execution_count": 42,
   "metadata": {},
   "outputs": [
    {
     "name": "stderr",
     "output_type": "stream",
     "text": [
      "2025-10-04 09:46:27,510 - INFO - Genomic CSV loaded: 110 rows, 18 cols\n",
      "2025-10-04 09:46:27,511 - INFO - Columns: ['Patient', 'RNASeqCluster', 'MethylationCluster', 'miRNACluster', 'CNCluster', 'RPPACluster', 'OncosignCluster', 'COCCluster', 'histological_type', 'neoplasm_histologic_grade', 'tumor_tissue_site', 'laterality', 'tumor_location', 'gender', 'age_at_initial_pathologic', 'race', 'ethnicity', 'death01']\n"
     ]
    },
    {
     "name": "stdout",
     "output_type": "stream",
     "text": [
      "     Patient  RNASeqCluster  MethylationCluster  miRNACluster  CNCluster  RPPACluster  OncosignCluster  COCCluster  histological_type  neoplasm_histologic_grade  tumor_tissue_site  laterality  tumor_location  gender  age_at_initial_pathologic  race  ethnicity  death01\n",
      "TCGA_CS_4941            2.0                 4.0             2        2.0          NaN              3.0           2                1.0                        2.0                1.0         3.0             2.0     2.0                       67.0   3.0        2.0      1.0\n",
      "TCGA_CS_4942            1.0                 5.0             2        1.0          1.0              2.0           1                1.0                        2.0                1.0         3.0             2.0     1.0                       44.0   2.0        NaN      1.0\n",
      "TCGA_CS_4943            1.0                 5.0             2        1.0          2.0              2.0           1                1.0                        2.0                1.0         1.0             2.0     2.0                       37.0   3.0        NaN      0.0\n"
     ]
    }
   ],
   "source": [
    "genomic_df = pd.read_csv(CSV_PATH)\n",
    "logger.info(f\"Genomic CSV loaded: {genomic_df.shape[0]} rows, {genomic_df.shape[1]} cols\")\n",
    "logger.info(f\"Columns: {list(genomic_df.columns)}\")\n",
    "\n",
    "\n",
    "display_sample = genomic_df.head(3)\n",
    "print(display_sample.to_string(index=False))"
   ]
  },
  {
   "cell_type": "code",
   "execution_count": null,
   "metadata": {},
   "outputs": [],
   "source": [
    "# Standardize column names: strip whitespace\n",
    "# Ensures all column names are trimmed (no leading/trailing spaces)\n",
    "genomic_df.columns = [c.strip() for c in genomic_df.columns]"
   ]
  },
  {
   "cell_type": "code",
   "execution_count": null,
   "metadata": {},
   "outputs": [],
   "source": [
    "# Set which column is the patient id in the CSV\n",
    "PATIENT_COL = 'Patient' # appears in  CSV, unique identifier for each patient. Used to match MRI images and genomic data.\n",
    "TARGET_COL = 'neoplasm_histologic_grade' #this typically represents tumor grade (e.g., Grade II vs Grade III)."
   ]
  },
  {
   "cell_type": "code",
   "execution_count": 47,
   "metadata": {},
   "outputs": [],
   "source": [
    "if PATIENT_COL not in genomic_df.columns:\n",
    "    raise KeyError(f\"Expected patient id column '{PATIENT_COL}' not found. Columns: {genomic_df.columns}\")\n",
    "if TARGET_COL not in genomic_df.columns:\n",
    "    raise KeyError(f\"Expected target column '{TARGET_COL}' not found. Columns: {genomic_df.columns}\")"
   ]
  },
  {
   "cell_type": "code",
   "execution_count": 48,
   "metadata": {},
   "outputs": [
    {
     "name": "stderr",
     "output_type": "stream",
     "text": [
      "2025-10-04 10:09:15,839 - INFO - Dropped 1 rows with missing target 'neoplasm_histologic_grade'. Remaining: 109\n"
     ]
    }
   ],
   "source": [
    "# Drop rows with missing target\n",
    "before = genomic_df.shape[0]\n",
    "genomic_df = genomic_df.dropna(subset=[TARGET_COL])\n",
    "after = genomic_df.shape[0]\n",
    "logger.info(f\"Dropped {before-after} rows with missing target '{TARGET_COL}'. Remaining: {after}\")"
   ]
  },
  {
   "cell_type": "code",
   "execution_count": 50,
   "metadata": {},
   "outputs": [],
   "source": [
    "# Normalize patient IDs\n",
    "genomic_df[PATIENT_COL] = genomic_df[PATIENT_COL].astype(str).str.strip()\n",
    "#Converts all patient IDs to string type (sometimes they’re numeric or contain spaces).\n",
    "\n",
    "#.str.strip() removes extra spaces — ensuring IDs perfectly match MRI folder names like \"TCGA_DU_5851\"."
   ]
  },
  {
   "cell_type": "code",
   "execution_count": null,
   "metadata": {},
   "outputs": [
    {
     "name": "stderr",
     "output_type": "stream",
     "text": [
      "2025-10-04 13:09:52,218 - INFO - Unique target values: [1.0, 2.0]\n"
     ]
    }
   ],
   "source": [
    "# Inspect unique targets\n",
    "#Shows what unique classes your target has.\n",
    "\n",
    "#e.g., ['G2', 'G3'] for Grade II and Grade III tumors.\n",
    "logger.info(f\"Unique target values: {sorted(genomic_df[TARGET_COL].dropna().unique().tolist())}\")"
   ]
  },
  {
   "cell_type": "code",
   "execution_count": null,
   "metadata": {},
   "outputs": [
    {
     "name": "stderr",
     "output_type": "stream",
     "text": [
      "2025-10-04 13:11:20,930 - INFO - Label map: {np.float64(1.0): 0, np.float64(2.0): 1}\n"
     ]
    }
   ],
   "source": [
    "# Map target to integer labels (0..K-1)\n",
    "#Machine learning models need numbers, not text labels.\n",
    "\n",
    "#This creates a dictionary mapping:{'G2': 0, 'G3': 1}\n",
    "#Then we apply that mapping to create a new column 'label' in the dataframe: G2 → 0, G3 → 1\n",
    "\n",
    "#So now the model can train on numeric labels while you still keep the readable 'neoplasm_histologic_grade' column for reference.\n",
    "label_map = {v: i for i, v in enumerate(sorted(genomic_df[TARGET_COL].unique()))}\n",
    "logger.info(f\"Label map: {label_map}\")\n",
    "genomic_df['label'] = genomic_df[TARGET_COL].map(label_map)"
   ]
  },
  {
   "cell_type": "markdown",
   "metadata": {},
   "source": [
    "\n",
    "### Section 3: Prepare genomic features\n",
    "We'll pick several cluster columns + age + gender. Categorical columns will be one-hot encoded; numeric columns will be standardized.\n",
    "Change `GENOMIC_FEATURE_COLS` to tune which genomic features to include.\n"
   ]
  },
  {
   "cell_type": "code",
   "execution_count": null,
   "metadata": {},
   "outputs": [],
   "source": [
    "#These columns are important genomic and clinical features.\n",
    "\n",
    "#The cluster columns (RNASeqCluster, MethylationCluster, etc.) describe different types of genetic activity.\n",
    "#age_at_initial_pathologic is numeric (patient’s age).\n",
    "#gender is categorical (male/female).\n",
    "\n",
    "GENOMIC_FEATURE_COLS = [\n",
    "'RNASeqCluster','MethylationCluster','miRNACluster','CNCluster',\n",
    "'OncosignCluster','COCCluster','age_at_initial_pathologic','gender'\n",
    "]"
   ]
  },
  {
   "cell_type": "code",
   "execution_count": 55,
   "metadata": {},
   "outputs": [
    {
     "name": "stderr",
     "output_type": "stream",
     "text": [
      "2025-10-04 13:23:52,359 - INFO - Using genomic columns: ['RNASeqCluster', 'MethylationCluster', 'miRNACluster', 'CNCluster', 'OncosignCluster', 'COCCluster', 'age_at_initial_pathologic', 'gender']\n"
     ]
    }
   ],
   "source": [
    "# Filter only columns that exist in the CSV (safety)\n",
    "#This is a safety check so the code doesn’t fail if a column is missing.\n",
    "#The logger shows which columns are actually being used.\n",
    "GENOMIC_FEATURE_COLS = [c for c in GENOMIC_FEATURE_COLS if c in genomic_df.columns]\n",
    "logger.info(f\"Using genomic columns: {GENOMIC_FEATURE_COLS}\")"
   ]
  },
  {
   "cell_type": "code",
   "execution_count": 56,
   "metadata": {},
   "outputs": [],
   "source": [
    "# Fillna for categorical by a placeholder\n",
    "gdf = genomic_df.copy()\n",
    "for c in GENOMIC_FEATURE_COLS:\n",
    "    if gdf[c].dtype == object or gdf[c].dtype.name == 'category':\n",
    "        gdf[c] = gdf[c].fillna('missing')\n",
    "    else:\n",
    "        gdf[c] = gdf[c].fillna(gdf[c].median())"
   ]
  },
  {
   "cell_type": "code",
   "execution_count": 57,
   "metadata": {},
   "outputs": [
    {
     "name": "stderr",
     "output_type": "stream",
     "text": [
      "2025-10-04 13:26:35,890 - INFO - Genomic feature matrix shape after one-hot: (109, 69)\n"
     ]
    }
   ],
   "source": [
    "# One-hot encode categorical values and keep numeric ones\n",
    "#Categorical features need to be converted to numbers.\n",
    "\n",
    "#One-hot encoding turns a category into multiple columns with 0/1. Example:\n",
    "gencat = pd.get_dummies(gdf[GENOMIC_FEATURE_COLS].astype(str), dummy_na=False)\n",
    "logger.info(f\"Genomic feature matrix shape after one-hot: {gencat.shape}\")"
   ]
  },
  {
   "cell_type": "code",
   "execution_count": 58,
   "metadata": {},
   "outputs": [],
   "source": [
    "# Standardize features\n",
    "#Standardization makes mean = 0, standard deviation = 1.\n",
    "\n",
    "#This is important so that the model treats all features equally.\n",
    "scaler = StandardScaler()\n",
    "genomic_features = scaler.fit_transform(gencat.values)"
   ]
  },
  {
   "cell_type": "code",
   "execution_count": 59,
   "metadata": {},
   "outputs": [],
   "source": [
    "# Construct a DataFrame mapping patient -> feature vector\n",
    "#Each row = patient, each column = feature.\n",
    "\n",
    "genomic_features_df = pd.DataFrame(genomic_features, index=gdf[PATIENT_COL], columns=gencat.columns)"
   ]
  },
  {
   "cell_type": "code",
   "execution_count": 60,
   "metadata": {},
   "outputs": [
    {
     "data": {
      "text/plain": [
       "RNASeqCluster_1.0                 1.833030\n",
       "RNASeqCluster_2.0                -0.838525\n",
       "RNASeqCluster_3.0                -0.351726\n",
       "RNASeqCluster_4.0                -0.573819\n",
       "MethylationCluster_1.0           -0.195180\n",
       "                                    ...   \n",
       "age_at_initial_pathologic_69.0   -0.096225\n",
       "age_at_initial_pathologic_70.0   -0.168232\n",
       "age_at_initial_pathologic_75.0   -0.096225\n",
       "gender_1.0                        0.972846\n",
       "gender_2.0                       -0.972846\n",
       "Name: TCGA_CS_4942, Length: 69, dtype: float64"
      ]
     },
     "execution_count": 60,
     "metadata": {},
     "output_type": "execute_result"
    }
   ],
   "source": [
    "#You can get the features for one patient:\n",
    "genomic_features_df.loc['TCGA_CS_4942']"
   ]
  },
  {
   "cell_type": "code",
   "execution_count": 61,
   "metadata": {},
   "outputs": [
    {
     "name": "stderr",
     "output_type": "stream",
     "text": [
      "2025-10-04 13:27:02,789 - INFO - Example genomic features for patient TCGA_CS_4941:\n",
      "{'RNASeqCluster_1.0': -0.545544725589981, 'RNASeqCluster_2.0': 1.1925695879998877, 'RNASeqCluster_3.0': -0.3517262290563295, 'RNASeqCluster_4.0': -0.5738190417570046, 'MethylationCluster_1.0': -0.19518001458970663, 'MethylationCluster_2.0': -0.3679900360969936, 'MethylationCluster_3.0': -0.6733003292241386, 'MethylationCluster_4.0': 1.9886038958388508, 'MethylationCluster_5.0': -0.7022468831767836, 'miRNACluster_1': -0.6589465276604691}\n"
     ]
    }
   ],
   "source": [
    "# Quick debug prints\n",
    "logger.info(f\"Example genomic features for patient {gdf[PATIENT_COL].iloc[0]}:\\n{genomic_features_df.iloc[0,:10].to_dict()}\")"
   ]
  },
  {
   "cell_type": "markdown",
   "metadata": {},
   "source": [
    "### Section 4: Scan image folders and map patient IDs to image paths\n",
    "We will extract patient IDs from folder names using: patient_id = \"_\".join(folder.split('_')[:3]) => e.g. TCGA_CS_4941\n",
    "Inside each patient folder we will pick the middle slice as representative.\n"
   ]
  },
  {
   "cell_type": "code",
   "execution_count": 62,
   "metadata": {},
   "outputs": [
    {
     "name": "stderr",
     "output_type": "stream",
     "text": [
      "2025-10-04 14:01:29,445 - INFO - Found 29 patient folders under dataset/kaggle_3m\n"
     ]
    }
   ],
   "source": [
    "# List patient folders under IMG_ROOT\n",
    "folders = [p for p in sorted(IMG_ROOT.iterdir()) if p.is_dir()]\n",
    "logger.info(f\"Found {len(folders)} patient folders under {IMG_ROOT}\")"
   ]
  },
  {
   "cell_type": "code",
   "execution_count": 63,
   "metadata": {},
   "outputs": [
    {
     "name": "stderr",
     "output_type": "stream",
     "text": [
      "2025-10-04 14:02:39,698 - INFO - Mapped 29 unique patient IDs from folders (after normalization)\n"
     ]
    }
   ],
   "source": [
    "# Build map: patient_id -> list of image file paths\n",
    "patient_to_images = {}\n",
    "for folder in folders:\n",
    "    fname = folder.name\n",
    "    # Extract patient id as first 3 tokens joined by underscore, e.g. TCGA_CS_4941\n",
    "    parts = fname.split('_')\n",
    "    if len(parts) >= 3:\n",
    "        patient_id = '_'.join(parts[:3])\n",
    "    else:\n",
    "        patient_id = fname\n",
    "\n",
    "\n",
    "    # collect tif/jpg/png files\n",
    "    img_files = sorted([str(p) for p in folder.glob('*.tif')] + [str(p) for p in folder.glob('*.png')] + [str(p) for p in folder.glob('*.jpg')])\n",
    "    if len(img_files) == 0:\n",
    "        continue\n",
    "    patient_to_images.setdefault(patient_id, []).extend(img_files)\n",
    "\n",
    "\n",
    "logger.info(f\"Mapped {len(patient_to_images)} unique patient IDs from folders (after normalization)\")"
   ]
  },
  {
   "cell_type": "code",
   "execution_count": 64,
   "metadata": {},
   "outputs": [
    {
     "name": "stderr",
     "output_type": "stream",
     "text": [
      "2025-10-04 15:07:50,506 - INFO - Patient TCGA_CS_4941: 46 slices, example: ['dataset/kaggle_3m/TCGA_CS_4941_19960909/TCGA_CS_4941_19960909_1.tif', 'dataset/kaggle_3m/TCGA_CS_4941_19960909/TCGA_CS_4941_19960909_10.tif']\n",
      "2025-10-04 15:07:50,508 - INFO - Patient TCGA_CS_4942: 40 slices, example: ['dataset/kaggle_3m/TCGA_CS_4942_19970222/TCGA_CS_4942_19970222_1.tif', 'dataset/kaggle_3m/TCGA_CS_4942_19970222/TCGA_CS_4942_19970222_10.tif']\n",
      "2025-10-04 15:07:50,509 - INFO - Patient TCGA_CS_4943: 40 slices, example: ['dataset/kaggle_3m/TCGA_CS_4943_20000902/TCGA_CS_4943_20000902_1.tif', 'dataset/kaggle_3m/TCGA_CS_4943_20000902/TCGA_CS_4943_20000902_10.tif']\n",
      "2025-10-04 15:07:50,509 - INFO - Patient TCGA_CS_4944: 40 slices, example: ['dataset/kaggle_3m/TCGA_CS_4944_20010208/TCGA_CS_4944_20010208_1.tif', 'dataset/kaggle_3m/TCGA_CS_4944_20010208/TCGA_CS_4944_20010208_10.tif']\n",
      "2025-10-04 15:07:50,510 - INFO - Patient TCGA_CS_5393: 40 slices, example: ['dataset/kaggle_3m/TCGA_CS_5393_19990606/TCGA_CS_5393_19990606_1.tif', 'dataset/kaggle_3m/TCGA_CS_5393_19990606/TCGA_CS_5393_19990606_10.tif']\n"
     ]
    }
   ],
   "source": [
    "# Show a couple of patients and the number of slices\n",
    "sample_items = list(patient_to_images.items())[:5]\n",
    "for pid, imgs in sample_items:\n",
    "    logger.info(f\"Patient {pid}: {len(imgs)} slices, example: {imgs[:2]}\")"
   ]
  },
  {
   "cell_type": "markdown",
   "metadata": {},
   "source": [
    "### Section 5: Match genomic patients and MRI patients — keep only common patients"
   ]
  },
  {
   "cell_type": "code",
   "execution_count": 65,
   "metadata": {},
   "outputs": [
    {
     "name": "stderr",
     "output_type": "stream",
     "text": [
      "2025-10-04 20:28:29,961 - INFO - Patients only in CSV: 80\n",
      "2025-10-04 20:28:29,963 - INFO - Patients only in IMG: 0\n",
      "2025-10-04 20:28:29,963 - INFO - Patients in both: 29\n"
     ]
    }
   ],
   "source": [
    "csv_patients = set(genomic_features_df.index.tolist())\n",
    "img_patients = set(patient_to_images.keys())\n",
    "\n",
    "\n",
    "patients_common = sorted(list(csv_patients.intersection(img_patients)))\n",
    "patients_only_csv = sorted(list(csv_patients - img_patients))\n",
    "patients_only_img = sorted(list(img_patients - csv_patients))\n",
    "\n",
    "\n",
    "logger.info(f\"Patients only in CSV: {len(patients_only_csv)}\")\n",
    "logger.info(f\"Patients only in IMG: {len(patients_only_img)}\")\n",
    "logger.info(f\"Patients in both: {len(patients_common)}\")"
   ]
  },
  {
   "cell_type": "code",
   "execution_count": 66,
   "metadata": {},
   "outputs": [
    {
     "name": "stderr",
     "output_type": "stream",
     "text": [
      "2025-10-04 20:30:22,944 - INFO - Examples of common patients: ['TCGA_CS_4941', 'TCGA_CS_4942', 'TCGA_CS_4943', 'TCGA_CS_4944', 'TCGA_CS_5393', 'TCGA_CS_5395', 'TCGA_CS_5396', 'TCGA_CS_5397', 'TCGA_CS_6186', 'TCGA_CS_6188']\n"
     ]
    }
   ],
   "source": [
    "# Print example common patients\n",
    "logger.info(f\"Examples of common patients: {patients_common[:10]}\")\n",
    "\n",
    "\n",
    "if len(patients_common) < 10:\n",
    "    logger.warning(\"Small number of matched patients. Your experimental power could be limited. Proceeding for demonstration.\")"
   ]
  },
  {
   "cell_type": "code",
   "execution_count": 67,
   "metadata": {},
   "outputs": [],
   "source": [
    "# Filter genomic dataframe to only those patients\n",
    "genomic_features_df = genomic_features_df.loc[[p for p in patients_common if p in genomic_features_df.index]]\n",
    "labels_series = genomic_df.set_index(PATIENT_COL).loc[genomic_features_df.index, 'label']"
   ]
  },
  {
   "cell_type": "code",
   "execution_count": null,
   "metadata": {},
   "outputs": [
    {
     "name": "stderr",
     "output_type": "stream",
     "text": [
      "2025-10-04 20:32:31,999 - INFO - Final number of paired patients (genomic+imaging): 29\n"
     ]
    }
   ],
   "source": [
    "# Quick check\n",
    "# Prints the final number of patients that have both genomic and MRI data.\n",
    "logger.info(f\"Final number of paired patients (genomic+imaging): {len(genomic_features_df)}\")"
   ]
  },
  {
   "cell_type": "markdown",
   "metadata": {},
   "source": [
    "### Section 6: Build Dataset class that returns (image, genomic_vector, label)\n",
    "We choose one representative slice per patient (the middle slice). If you prefer another strategy (all slices, random slice, or combine slices), you can change the sampler logic below.\n"
   ]
  },
  {
   "cell_type": "code",
   "execution_count": 69,
   "metadata": {},
   "outputs": [],
   "source": [
    "class MultimodalPatientDataset(Dataset):\n",
    "    def __init__(self, patient_ids, patient_to_images, genomic_features_df, labels_series, transform=None):\n",
    "        self.patient_ids = list(patient_ids)\n",
    "        self.patient_to_images = patient_to_images\n",
    "        self.genomic_features_df = genomic_features_df\n",
    "        self.labels_series = labels_series\n",
    "        self.transform = transform\n",
    "\n",
    "\n",
    "    def __len__(self):\n",
    "        return len(self.patient_ids)\n",
    "\n",
    "\n",
    "    def __getitem__(self, idx):\n",
    "        pid = self.patient_ids[idx]\n",
    "        imgs = sorted(self.patient_to_images[pid])\n",
    "        # pick middle slice\n",
    "        img_path = imgs[len(imgs) // 2]\n",
    "        image = pil_loader(img_path)\n",
    "        if self.transform:\n",
    "            image = self.transform(image)\n",
    "        # genomic vector\n",
    "        genomic_vec = torch.tensor(self.genomic_features_df.loc[pid].values, dtype=torch.float32)\n",
    "        label = int(self.labels_series.loc[pid])\n",
    "        return image, genomic_vec, label"
   ]
  },
  {
   "cell_type": "markdown",
   "metadata": {},
   "source": [
    "### Section 7: Create train/test split of patients and DataLoaders\n",
    "We split at patient-level so that slices from same patient don't leak between train and test."
   ]
  },
  {
   "cell_type": "code",
   "execution_count": 70,
   "metadata": {},
   "outputs": [
    {
     "name": "stderr",
     "output_type": "stream",
     "text": [
      "2025-10-04 20:42:49,963 - INFO - Train patients: 21, Test patients: 8\n"
     ]
    }
   ],
   "source": [
    "patient_ids = genomic_features_df.index.tolist()\n",
    "labels_for_split = labels_series.loc[patient_ids].values\n",
    "\n",
    "\n",
    "train_patients, test_patients = train_test_split(patient_ids, test_size=0.25, random_state=RANDOM_SEED, stratify=labels_for_split)\n",
    "logger.info(f\"Train patients: {len(train_patients)}, Test patients: {len(test_patients)}\")"
   ]
  },
  {
   "cell_type": "code",
   "execution_count": 71,
   "metadata": {},
   "outputs": [],
   "source": [
    "# Image transforms\n",
    "img_size = 128\n",
    "train_transform = T.Compose([\n",
    "    T.Resize((img_size, img_size)),\n",
    "    T.RandomHorizontalFlip(),\n",
    "    T.RandomRotation(10),\n",
    "    T.ToTensor(),\n",
    "    T.Normalize([0.485, 0.456, 0.406], [0.229, 0.224, 0.225])\n",
    "])\n",
    "\n",
    "\n",
    "test_transform = T.Compose([\n",
    "    T.Resize((img_size, img_size)),\n",
    "    T.ToTensor(),\n",
    "    T.Normalize([0.485, 0.456, 0.406], [0.229, 0.224, 0.225])\n",
    "])"
   ]
  },
  {
   "cell_type": "code",
   "execution_count": 72,
   "metadata": {},
   "outputs": [],
   "source": [
    "# Create datasets\n",
    "train_dataset = MultimodalPatientDataset(train_patients, patient_to_images, genomic_features_df, labels_series, transform=train_transform)\n",
    "test_dataset = MultimodalPatientDataset(test_patients, patient_to_images, genomic_features_df, labels_series, transform=test_transform)"
   ]
  },
  {
   "cell_type": "code",
   "execution_count": 73,
   "metadata": {},
   "outputs": [
    {
     "name": "stderr",
     "output_type": "stream",
     "text": [
      "2025-10-04 20:43:48,782 - INFO - Train samples: 21, Test samples: 8\n"
     ]
    }
   ],
   "source": [
    "# DataLoaders (num_workers=0 to avoid macOS spawn issues; change to >0 if safe)\n",
    "batch_size = 8\n",
    "train_loader = DataLoader(train_dataset, batch_size=batch_size, shuffle=True, num_workers=0)\n",
    "test_loader = DataLoader(test_dataset, batch_size=batch_size, shuffle=False, num_workers=0)\n",
    "\n",
    "\n",
    "logger.info(f\"Train samples: {len(train_dataset)}, Test samples: {len(test_dataset)}\")"
   ]
  },
  {
   "cell_type": "code",
   "execution_count": 74,
   "metadata": {},
   "outputs": [
    {
     "data": {
      "image/png": "[encoded data removed]",
      "text/plain": [
       "<Figure size 1200x300 with 4 Axes>"
      ]
     },
     "metadata": {},
     "output_type": "display_data"
    }
   ],
   "source": [
    "# Visualize a few samples (debugging/visualization)\n",
    "import matplotlib.pyplot as plt\n",
    "fig, axes = plt.subplots(1, min(4, len(train_dataset)), figsize=(12,3))\n",
    "for i in range(min(4, len(train_dataset))):\n",
    "    img, gvec, lbl = train_dataset[i]\n",
    "    # unnormalize for display\n",
    "    img_disp = img.numpy().transpose((1,2,0))\n",
    "    img_disp = img_disp * np.array([0.229,0.224,0.225]) + np.array([0.485,0.456,0.406])\n",
    "    img_disp = np.clip(img_disp, 0, 1)\n",
    "    axes[i].imshow(img_disp)\n",
    "    axes[i].set_title(f\"Label: {lbl}\")\n",
    "    axes[i].axis('off')\n",
    "plt.show()"
   ]
  },
  {
   "cell_type": "code",
   "execution_count": null,
   "metadata": {},
   "outputs": [],
   "source": []
  }
 ],
 "metadata": {
  "kernelspec": {
   "display_name": ".venv",
   "language": "python",
   "name": "python3"
  },
  "language_info": {
   "codemirror_mode": {
    "name": "ipython",
    "version": 3
   },
   "file_extension": ".py",
   "mimetype": "text/x-python",
   "name": "python",
   "nbconvert_exporter": "python",
   "pygments_lexer": "ipython3",
   "version": "3.9.12"
  }
 },
 "nbformat": 4,
 "nbformat_minor": 2
}
